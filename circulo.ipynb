{
  "nbformat": 4,
  "nbformat_minor": 0,
  "metadata": {
    "colab": {
      "name": "circulo.ipynb",
      "private_outputs": true,
      "provenance": [],
      "collapsed_sections": [],
      "mount_file_id": "1XR7hF_MaXIzRVTQwqw1Z_obtNmlm_lJD",
      "authorship_tag": "ABX9TyOwsAgaK3+X2F/bE3KF+jVy",
      "include_colab_link": true
    },
    "kernelspec": {
      "name": "python3",
      "display_name": "Python 3"
    },
    "language_info": {
      "name": "python"
    }
  },
  "cells": [
    {
      "cell_type": "markdown",
      "metadata": {
        "id": "view-in-github",
        "colab_type": "text"
      },
      "source": [
        "<a href=\"https://colab.research.google.com/github/VictorCampelo/Circle-Points-For-Coloring/blob/main/circulo.ipynb\" target=\"_parent\"><img src=\"https://colab.research.google.com/assets/colab-badge.svg\" alt=\"Open In Colab\"/></a>"
      ]
    },
    {
      "cell_type": "code",
      "metadata": {
        "id": "lKSQ55zINP57"
      },
      "source": [
        "from google.colab import drive\n",
        "drive.mount('/content/drive')"
      ],
      "execution_count": null,
      "outputs": []
    },
    {
      "cell_type": "markdown",
      "metadata": {
        "id": "ryQ4FILhmRw2"
      },
      "source": [
        "## Bibliotecas"
      ]
    },
    {
      "cell_type": "code",
      "metadata": {
        "id": "38MqnaNpmL_s"
      },
      "source": [
        "!apt install libcairo2-dev\n",
        "!pip install pycairo\n",
        "!apt-get install build-essential"
      ],
      "execution_count": null,
      "outputs": []
    },
    {
      "cell_type": "code",
      "metadata": {
        "id": "K85AP5-36qSC"
      },
      "source": [
        "!pip install --upgrade Pillow"
      ],
      "execution_count": null,
      "outputs": []
    },
    {
      "cell_type": "code",
      "metadata": {
        "id": "YZmUM-OE9OMj"
      },
      "source": [
        "!pip install opencv-python-headless"
      ],
      "execution_count": null,
      "outputs": []
    },
    {
      "cell_type": "code",
      "metadata": {
        "id": "e_dcZ6UXKSbQ"
      },
      "source": [
        "!git clone https://github.com/fjean/pymeanshift.git"
      ],
      "execution_count": null,
      "outputs": []
    },
    {
      "cell_type": "code",
      "metadata": {
        "id": "sis1zrlfKmAJ"
      },
      "source": [
        "cd pymeanshift"
      ],
      "execution_count": null,
      "outputs": []
    },
    {
      "cell_type": "code",
      "metadata": {
        "id": "4xp9wO67KaFR"
      },
      "source": [
        "!chmod a+x setup.py\n",
        "!./setup.py install"
      ],
      "execution_count": null,
      "outputs": []
    },
    {
      "cell_type": "markdown",
      "metadata": {
        "id": "sFwFL51Ml_gM"
      },
      "source": [
        "## Segmentação"
      ]
    },
    {
      "cell_type": "code",
      "metadata": {
        "id": "MvjIDw26pWRM"
      },
      "source": [
        "cd /content/drive/MyDrive/Colab/ciclism/MSS"
      ],
      "execution_count": null,
      "outputs": []
    },
    {
      "cell_type": "code",
      "metadata": {
        "id": "MdTYlTTElyD3"
      },
      "source": [
        "!g++ Maincpp.cpp `pkg-config --cflags --libs opencv`\n",
        "!./a.out /content/drive/MyDrive/Colab/ciclism/images/input/pp.jpg /content/drive/MyDrive/Colab/ciclism/images/intermediate/segmented/pp.png"
      ],
      "execution_count": null,
      "outputs": []
    },
    {
      "cell_type": "markdown",
      "metadata": {
        "id": "4plbWiypmd6M"
      },
      "source": [
        "## Importações"
      ]
    },
    {
      "cell_type": "code",
      "metadata": {
        "id": "dRLest7jmgJ8"
      },
      "source": [
        "import cv2\n",
        "from matplotlib import pyplot as plt \n",
        "import numpy as np\n",
        "\n",
        "from random import random\n",
        "import cairo\n",
        "import math\n",
        "%matplotlib inline\n",
        "import time"
      ],
      "execution_count": null,
      "outputs": []
    },
    {
      "cell_type": "code",
      "metadata": {
        "id": "QmOXbqnMUADx"
      },
      "source": [
        "nome = 'pp'"
      ],
      "execution_count": null,
      "outputs": []
    },
    {
      "cell_type": "code",
      "metadata": {
        "id": "ba_66ThHJ3Yc"
      },
      "source": [
        "import cv2\n",
        " \n",
        "img = cv2.imread(f\"/content/drive/MyDrive/Colab/ciclism/images/input/{nome}.jpg\", cv2.IMREAD_UNCHANGED)\n",
        " \n",
        "print('Original Dimensions : ',img.shape)\n",
        " \n",
        "scale_percent = 60 # percent of original size\n",
        "width = int(img.shape[1] * scale_percent / 100)\n",
        "height = int(img.shape[0] * scale_percent / 100)\n",
        "dim = (width, height)\n",
        "  \n",
        "# resize image\n",
        "resized = cv2.resize(img, dim, interpolation = cv2.INTER_AREA)\n",
        " \n",
        "print('Resized Dimensions : ',resized.shape)\n",
        "\n",
        "cv2.imwrite(f\"/content/drive/MyDrive/Colab/ciclism/images/input/{nome}.png\", resized)"
      ],
      "execution_count": null,
      "outputs": []
    },
    {
      "cell_type": "code",
      "metadata": {
        "id": "NNdWB-S7Fb4q"
      },
      "source": [
        "import cv2\n",
        "import pymeanshift as pms\n",
        "\n",
        "original_image = cv2.imread(f\"/content/drive/MyDrive/Colab/ciclism/images/input/{nome}.png\")\n",
        "\n",
        "(segmented_image, labels_image, number_regions) = pms.segment(original_image, spatial_radius=9, \n",
        "                                                              range_radius=3, min_density=20)\n"
      ],
      "execution_count": null,
      "outputs": []
    },
    {
      "cell_type": "code",
      "metadata": {
        "id": "yaL_GZ8RuI89"
      },
      "source": [
        "cv2.imwrite(f\"/content/drive/MyDrive/Colab/ciclism/images/intermediate/segmented/{nome}.png\", segmented_image)"
      ],
      "execution_count": null,
      "outputs": []
    },
    {
      "cell_type": "code",
      "metadata": {
        "id": "1bXl0WNt63kz"
      },
      "source": [
        "import cv2\n",
        " \n",
        "img = cv2.imread(f\"/content/drive/MyDrive/Colab/ciclism/images/intermediate/segmented/{nome}.png\", cv2.IMREAD_UNCHANGED)\n",
        " \n",
        "print('Original Dimensions : ',img.shape)\n",
        " \n",
        "scale_percent = 500 # percent of original size\n",
        "width = int(img.shape[1] * scale_percent / 100)\n",
        "height = int(img.shape[0] * scale_percent / 100)\n",
        "dim = (width, height)\n",
        "  \n",
        "# resize image\n",
        "resized = cv2.resize(img, dim, interpolation = cv2.INTER_AREA)\n",
        " \n",
        "print('Resized Dimensions : ',resized.shape)\n",
        "\n",
        "segmented_image = resized\n",
        "\n",
        "cv2.imwrite(f\"/content/drive/MyDrive/Colab/ciclism/images/intermediate/segmented/{nome}.png\", segmented_image)"
      ],
      "execution_count": null,
      "outputs": []
    },
    {
      "cell_type": "code",
      "metadata": {
        "id": "vV5uX3HCk1KG"
      },
      "source": [
        "plt.rcParams[\"figure.figsize\"] = (25,15)\n",
        "plt.imshow(cv2.cvtColor(segmented_image,cv2.COLOR_BGR2RGB))\n",
        "plt.show()"
      ],
      "execution_count": null,
      "outputs": []
    },
    {
      "cell_type": "markdown",
      "metadata": {
        "id": "zBCjtVUPmYPT"
      },
      "source": [
        "# Backgroud"
      ]
    },
    {
      "cell_type": "code",
      "metadata": {
        "id": "EwxerM9ImaFE"
      },
      "source": [
        "img = cv2.imread('/content/drive/MyDrive/Colab/ciclism/images/intermediate/segmented/'+nome+'.png')"
      ],
      "execution_count": null,
      "outputs": []
    },
    {
      "cell_type": "code",
      "metadata": {
        "id": "8ZjAUAEgmrI1"
      },
      "source": [
        "plt.imshow(cv2.cvtColor(img,cv2.COLOR_BGR2RGB))\n",
        "plt.show()"
      ],
      "execution_count": null,
      "outputs": []
    },
    {
      "cell_type": "code",
      "metadata": {
        "id": "mzHF3QlamtNs"
      },
      "source": [
        "blurred = cv2.GaussianBlur(img, (5, 5), 0) # Remove noise\n",
        "plt.imshow(cv2.cvtColor(img,cv2.COLOR_BGR2RGB))\n",
        "plt.show()"
      ],
      "execution_count": null,
      "outputs": []
    },
    {
      "cell_type": "code",
      "metadata": {
        "id": "sSX8vnZdmu-E"
      },
      "source": [
        "def edgedetect (channel):\n",
        "    sobelX = cv2.Sobel(channel, cv2.CV_16S, 1, 0)\n",
        "    sobelY = cv2.Sobel(channel, cv2.CV_16S, 0, 1)\n",
        "    sobel = np.hypot(sobelX, sobelY)\n",
        "\n",
        "    sobel[sobel > 255] = 255;\n",
        "    return sobel"
      ],
      "execution_count": null,
      "outputs": []
    },
    {
      "cell_type": "code",
      "metadata": {
        "id": "UdBtV_W4mxX8"
      },
      "source": [
        "edgeImg = np.max( [ edgedetect(blurred[:,:, 0]), edgedetect(blurred[:,:, 1]), edgedetect(blurred[:,:, 2]) ], axis=0 )"
      ],
      "execution_count": null,
      "outputs": []
    },
    {
      "cell_type": "code",
      "metadata": {
        "id": "xw_IaFKhmzIt"
      },
      "source": [
        "plt.imshow(edgeImg,cmap='gray')\n",
        "plt.show()"
      ],
      "execution_count": null,
      "outputs": []
    },
    {
      "cell_type": "code",
      "metadata": {
        "id": "Fr0Pp7XBm0uk"
      },
      "source": [
        "mean = np.mean(edgeImg);\n",
        "# Zero any value that is less than mean. This reduces a lot of noise.\n",
        "edgeImg[edgeImg <= mean] = 0;\n",
        "plt.imshow(edgeImg,cmap='gray')\n",
        "plt.show()"
      ],
      "execution_count": null,
      "outputs": []
    },
    {
      "cell_type": "code",
      "metadata": {
        "id": "8ua15Owbm3FW"
      },
      "source": [
        "def findSignificantContours (img, edgeImg):\n",
        "    contours, heirarchy = cv2.findContours(edgeImg, cv2.RETR_TREE, cv2.CHAIN_APPROX_SIMPLE)\n",
        "\n",
        "    # Find level 1 contours\n",
        "    level1 = []\n",
        "    for i, tupl in enumerate(heirarchy[0]):\n",
        "        # Each array is in format (Next, Prev, First child, Parent)\n",
        "        # Filter the ones without parent\n",
        "        if tupl[3] == -1:\n",
        "            tupl = np.insert(tupl, 0, [i])\n",
        "            level1.append(tupl)\n",
        "    significant = []\n",
        "    tooSmall = edgeImg.size * 5 / 100 # If contour isn't covering 5% of total area of image then it probably is too small\n",
        "    for tupl in level1:\n",
        "        contour = contours[tupl[0]];\n",
        "        area = cv2.contourArea(contour)\n",
        "        if area > tooSmall:\n",
        "            significant.append([contour, area])\n",
        "\n",
        "    significant.sort(key=lambda x: x[1])\n",
        "    #print ([x[1] for x in significant]);\n",
        "    return [x[0] for x in significant];"
      ],
      "execution_count": null,
      "outputs": []
    },
    {
      "cell_type": "code",
      "metadata": {
        "id": "_KjXIaICm48O"
      },
      "source": [
        "# edgeImg_8u = np.asarray(edgeImg, np.uint8)\n",
        "\n",
        "# # Find contours\n",
        "# significant = findSignificantContours(img, edgeImg_8u)"
      ],
      "execution_count": null,
      "outputs": []
    },
    {
      "cell_type": "code",
      "metadata": {
        "id": "GsdGgTw8m6Qn"
      },
      "source": [
        "# # Mask\n",
        "# mask = edgeImg.copy()\n",
        "# mask[mask > 0] = 0\n",
        "# cv2.fillPoly(mask, significant, 255)\n",
        "# # Invert mask\n",
        "# mask = np.logical_not(mask)\n",
        "\n",
        "# #Finally remove the background\n",
        "# img[mask] = 200;\n",
        "# img[np.logical_not(mask)] = 0;"
      ],
      "execution_count": null,
      "outputs": []
    },
    {
      "cell_type": "code",
      "metadata": {
        "id": "hZo5iLDbm710"
      },
      "source": [
        "plt.imshow(cv2.cvtColor(img,cv2.COLOR_BGR2RGB))\n",
        "plt.show()"
      ],
      "execution_count": null,
      "outputs": []
    },
    {
      "cell_type": "code",
      "metadata": {
        "id": "q4KnGGl5m9Yb"
      },
      "source": [
        "cv2.imwrite('/content/drive/MyDrive/Colab/ciclism/images/intermediate/background/'+nome+'.png',img)"
      ],
      "execution_count": null,
      "outputs": []
    },
    {
      "cell_type": "markdown",
      "metadata": {
        "id": "6TyxQtRcnS5c"
      },
      "source": [
        "# Circlimos"
      ]
    },
    {
      "cell_type": "code",
      "metadata": {
        "id": "6C2lLsZTnXP_"
      },
      "source": [
        "def load_image(path):\n",
        "    Image1 = cv2.imread(path)\n",
        "    Image1 = cv2.cvtColor(Image1, cv2.COLOR_BGR2RGB)\n",
        "    return Image1\n",
        "def show_image(image, gray=False):\n",
        "    if gray:\n",
        "        plt.imshow(image, cmap='gray')\n",
        "    else:\n",
        "        plt.imshow(image)\n",
        "    plt.show()"
      ],
      "execution_count": null,
      "outputs": []
    },
    {
      "cell_type": "code",
      "metadata": {
        "id": "qDOm9MBCoR79"
      },
      "source": [
        "input_image = load_image('/content/drive/MyDrive/Colab/ciclism/images/intermediate/segmented/'+nome+'.png')\n",
        "show_image(input_image)"
      ],
      "execution_count": null,
      "outputs": []
    },
    {
      "cell_type": "code",
      "metadata": {
        "id": "0pl0QJ2WoegF"
      },
      "source": [
        "def process_image(image):\n",
        "    canny = cv2.Canny(image,200,300)\n",
        "    show_image(canny, gray=True)\n",
        "    \n",
        "    edges_inv = (255 - canny)\n",
        "    show_image(edges_inv,gray=True)\n",
        "    \n",
        "    dist_transform = cv2.distanceTransform(edges_inv,cv2.DIST_L2,0) \n",
        "    show_image(dist_transform,gray=True)\n",
        "    \n",
        "    return dist_transform"
      ],
      "execution_count": null,
      "outputs": []
    },
    {
      "cell_type": "code",
      "metadata": {
        "id": "JhtD6dv8ofH8"
      },
      "source": [
        "SIZE_X = input_image.shape[1]\n",
        "SIZE_Y = input_image.shape[0]\n",
        "SIZE = min(SIZE_X,SIZE_Y)\n",
        "\n",
        "LINEWIDTH = 0.1\n",
        "\n",
        "TWOPI = 2.0*3.14\n",
        "BACK = [255,0,0,0]"
      ],
      "execution_count": null,
      "outputs": []
    },
    {
      "cell_type": "code",
      "metadata": {
        "id": "dcxUHrn1okSs"
      },
      "source": [
        "def add_new_circles(is_fill, dist_map, circles,r,t,e):\n",
        "    for x in range(2*r,SIZE_X- r):\n",
        "        for y in range(2*r,SIZE_Y - r):\n",
        "            a=True\n",
        "            if dist_map[y,x]>r:\n",
        "                p=(int)((dist_map[y,x]+1)/2)\n",
        "                if p>e:\n",
        "                    p=r\n",
        "                if (is_fill[x,y]==0)&(x-p>=0)&(x+p<SIZE_X)&(y-p>=0)&(y+p<SIZE_Y):\n",
        "                    for rt in range(x-p,x+p+1):\n",
        "                        if rt>SIZE_X:\n",
        "                            break\n",
        "                        yu=rt-x\n",
        "                        for ty in range(y-p,y+p+1):\n",
        "                            if ty>SIZE_Y:\n",
        "                                break\n",
        "                            op=ty-y\n",
        "                            if yu*yu+op*op<(p+1)*(p+1):\n",
        "                                if is_fill[rt,ty]==1:\n",
        "                                    a=False\n",
        "                                    break\n",
        "                            if a==False:\n",
        "                                break\n",
        "                    \n",
        "                    if a==True:\n",
        "                        circles.append({\n",
        "                        'x': x, \n",
        "                        'y': y, \n",
        "                        'r': p,\n",
        "                        }) \n",
        "                        for st in range(x-p,x+p+1):\n",
        "                            ui=st-x\n",
        "                            if st>SIZE_X:\n",
        "                                break\n",
        "                            for en in range(y-p,y+p+1):\n",
        "                                iu=en-y\n",
        "                                if en>SIZE_Y:\n",
        "                                    break\n",
        "                                if ui*ui+iu*iu<=(p+1)*(p+1):\n",
        "                                    is_fill[st,en]=1    \n",
        "\n",
        "                        \n",
        "                        y=y+p*2+r;\n",
        "\n",
        "def show(img_clr, back, ctx, circles):\n",
        "    for c in circles:\n",
        "        if (not np.array_equal(back[int(c['y']),int(c['x'])],np.array([200,200,200]))):\n",
        "            rgb = img_clr[int(c['y']),int(c['x'])]\n",
        "            rgba = [rgb[0]/255, rgb[1]/255,rgb[2]/255, 1.0]\n",
        "            ctx.set_source_rgba(*rgba)\n",
        "            ctx.arc(c['x'], c['y'], c['r'], 0, TWOPI)\n",
        "            ctx.fill()\n",
        "            ctx.set_source_rgba(*[0,0,0,1])\n",
        "            ctx.arc(c['x'], c['y'], c['r'], 0, TWOPI)\n",
        "            ctx.stroke()\n",
        "        else:\n",
        "            rgb = img_clr[int(c['y']),int(c['x'])]\n",
        "            rgba = [rgb[0]/255, rgb[1]/255,rgb[2]/255, 0.7]\n",
        "            ctx.set_source_rgba(*rgba)\n",
        "            ctx.arc(c['x'], c['y'], c['r'], 0, TWOPI)\n",
        "            ctx.fill()\n",
        "            ctx.set_source_rgba(*[0,0,0,1])"
      ],
      "execution_count": null,
      "outputs": []
    },
    {
      "cell_type": "code",
      "metadata": {
        "id": "udRzRqt8onA9"
      },
      "source": [
        "def run_circlism(image):\n",
        "    processed_image = process_image(image)\n",
        "    back = cv2.imread('/content/drive/MyDrive/Colab/ciclism/images/intermediate/background/'+nome+'.png')\n",
        "    s = time.time()\n",
        "    image = cairo.ImageSurface.create_from_png('/content/drive/MyDrive/Colab/ciclism/images/intermediate/background/'+nome+'.png')\n",
        "    buffer_surf = cairo.ImageSurface(cairo.FORMAT_ARGB32, SIZE_X, SIZE_Y)\n",
        "    buffer = cairo.Context(buffer_surf)\n",
        "    # buffer.set_source_surface(image, 0,0)\n",
        "    # buffer.set_source_rgba(0,0,0,1)\n",
        "    buffer.paint()\n",
        "\n",
        "    # buffer.scale(SIZE_X, SIZE_Y)\n",
        "\n",
        "    buffer.rectangle(0.0, 0.0, 1.0, 1.0)\n",
        "    buffer.fill()\n",
        "    circles = []\n",
        "    is_fill = np.zeros([SIZE_X+1,SIZE_Y+1])\n",
        "    D = [ 300, 200, 100, 50, 40, 30, 20, 15, 10, 5]\n",
        "    # D = [ 40,30 ]\n",
        "    # add_new_circles(is_fill, processed_image, circles,40,40,100)\n",
        "    print(time.time()-s)\n",
        "    for i in range(len(D)):\n",
        "        if i==0:\n",
        "            continue\n",
        "        add_new_circles(is_fill, processed_image, circles,D[i],D[i],D[i-1])\n",
        "        print(time.time()-s)\n",
        "\n",
        "    buffer.set_line_width(1)\n",
        "    show(input_image, back, buffer, circles)\n",
        "    print (len(circles))\n",
        "    buffer_surf.write_to_png('/content/drive/MyDrive/Colab/ciclism/images/output/'+nome+'.png')\n",
        "    print (time.time()-s)"
      ],
      "execution_count": null,
      "outputs": []
    },
    {
      "cell_type": "code",
      "metadata": {
        "id": "1gxSoYQFopLF"
      },
      "source": [
        "run_circlism(input_image)"
      ],
      "execution_count": null,
      "outputs": []
    },
    {
      "cell_type": "code",
      "metadata": {
        "id": "B0boM3ZWorT0"
      },
      "source": [
        "result = cv2.imread('/content/drive/MyDrive/Colab/ciclism/images/output/'+nome+'.png')\n",
        "result = cv2.cvtColor(result, cv2.COLOR_BGR2RGB)\n",
        "plt.figure(figsize=(12,12))\n",
        "plt.imshow(result)\n",
        "plt.title('EDT Circle Packing')\n",
        "plt.show()"
      ],
      "execution_count": null,
      "outputs": []
    },
    {
      "cell_type": "markdown",
      "metadata": {
        "id": "gg3_rBdZ9Vlq"
      },
      "source": [
        "# Vectorize"
      ]
    },
    {
      "cell_type": "markdown",
      "metadata": {
        "id": "zxSl5tT8LHEG"
      },
      "source": [
        "# Number"
      ]
    },
    {
      "cell_type": "code",
      "metadata": {
        "id": "ul3CztLlsSxo"
      },
      "source": [
        "cd /content/drive/MyDrive/Colab/ciclism/number"
      ],
      "execution_count": null,
      "outputs": []
    },
    {
      "cell_type": "code",
      "metadata": {
        "id": "1LFpKeDNLOk2"
      },
      "source": [
        "!python run.py /content/drive/MyDrive/Colab/ciclism/images/output/pp.png 40"
      ],
      "execution_count": null,
      "outputs": []
    }
  ]
}